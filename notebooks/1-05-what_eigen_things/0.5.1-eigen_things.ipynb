{
 "cells": [
  {
   "cell_type": "markdown",
   "metadata": {},
   "source": [
    "# Eigen things\n",
    "\n",
    "The names for \"eigenvalue\" and \"eigenvector\" come from the meaning \"inherent, characteristic\"\n",
    "\n",
    "\n",
    "*Foor example, When we rotate, there are no eigen vectors.*\n",
    "<img src=\"Capture.JPG\" width=500 />\n",
    "\n",
    "### Special Eigen cases\n",
    "\n",
    "1. Uniform scaling, All vectors are eigen vectors\n",
    "2. rotation, only some are eigen vectors, e.g., rotate $180^\\circ $\n",
    "\n",
    "### Calculating Eigen vectors\n",
    "\n",
    "$ Ax = \\lambda x $\n",
    "\n",
    "$ (A - \\lambda I)x = 0 $\n",
    "\n",
    "$ det(A - \\lambda I) = 0 $\n",
    "\n",
    "<img src=\"Capture2.JPG\" width=500 />\n",
    "\n",
    "Therefore the characteristic polynomial is:\n",
    "\n",
    "$ {\\lambda}^2 - (a + d) \\lambda + (ad - bc) = 0 $\n",
    "\n",
    "\n",
    "<img src=\"Capture3.JPG\" width=500 />\n",
    "\n",
    "#### The above is simply saying at $ \\lambda = 1 $, $ x_1 $ can be anything, and with $ \\lambda = 2 $, $ x_2 $ can be anything\n",
    "\n"
   ]
  },
  {
   "cell_type": "code",
   "execution_count": null,
   "metadata": {},
   "outputs": [],
   "source": []
  },
  {
   "cell_type": "code",
   "execution_count": null,
   "metadata": {},
   "outputs": [],
   "source": []
  }
 ],
 "metadata": {
  "kernelspec": {
   "display_name": "Python 3",
   "language": "python",
   "name": "python3"
  },
  "language_info": {
   "codemirror_mode": {
    "name": "ipython",
    "version": 3
   },
   "file_extension": ".py",
   "mimetype": "text/x-python",
   "name": "python",
   "nbconvert_exporter": "python",
   "pygments_lexer": "ipython3",
   "version": "3.6.5"
  }
 },
 "nbformat": 4,
 "nbformat_minor": 2
}
