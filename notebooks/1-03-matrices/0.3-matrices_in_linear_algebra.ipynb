{
 "cells": [
  {
   "cell_type": "markdown",
   "metadata": {},
   "source": [
    "# Matrices\n",
    "\n",
    "\n",
    "Solve with linear algebra\n",
    "\n",
    "$ 2a + 3b = 8 $\n",
    "\n",
    "$ 10a + b = 13 $\n",
    "\n",
    "\n",
    "Therefore,\n",
    "\n",
    "\n",
    "$\n",
    "\\left( \\begin{array}{cc} 2 & 3 \\\\ 10 & 1 \\end{array} \\right) \\left( \\begin{array}{cc} a \\\\ b \\end{array} \\right)= \\left( \\begin{array}{cc} 8 \\\\ 13 \\end{array} \\right)\n",
    "$"
   ]
  },
  {
   "cell_type": "code",
   "execution_count": null,
   "metadata": {},
   "outputs": [],
   "source": []
  },
  {
   "cell_type": "markdown",
   "metadata": {},
   "source": [
    "Hence with Matrices, \n",
    "\n",
    "If $ A = \\left [  \\begin{array}{cc} 2 & 3 \\\\ 10 & 1 \\end{array}  \\right] $\n",
    "\n",
    "$ A r = r' $\n",
    "\n",
    "$ A (nr) = A n r' $\n",
    "\n",
    "$ A (r + s) = Ar + As $"
   ]
  },
  {
   "cell_type": "code",
   "execution_count": null,
   "metadata": {},
   "outputs": [],
   "source": []
  },
  {
   "cell_type": "markdown",
   "metadata": {},
   "source": [
    "### Matrix transformation\n",
    "\n",
    "##### Identity matrix\n",
    "\n",
    "$ I = \\left [  \\begin{array}{cc} 1 & 0 \\\\ 0 & 1 \\end{array}  \\right] $\n",
    "\n",
    "\n",
    "##### Scaling Matrix\n",
    "Scales x by $ \\frac{1}{3} $ and y by $ 2 $.\n",
    "\n",
    "$ S = \\left [  \\begin{array}{cc} \\frac{1}{3} & 0 \\\\ 0 & 2 \\end{array}  \\right] $\n",
    "\n",
    "Flips x.\n",
    "\n",
    "$ S = \\left [  \\begin{array}{cc} -1 & 0 \\\\ 0 & 2 \\end{array}  \\right] $\n",
    "\n",
    "\n",
    "Inversion Matrix,\n",
    "\n",
    "$ S = \\left [  \\begin{array}{cc} -1 & 0 \\\\ 0 & -1 \\end{array}  \\right] $\n",
    "\n",
    "\n",
    "Mirrors,\n",
    "\n",
    "$ S = \\left [  \\begin{array}{cc} 0 & 1 \\\\ 1 & 0 \\end{array}  \\right] $\n",
    "\n",
    "\n",
    "Shear,\n",
    "\n",
    "$ S = \\left [  \\begin{array}{cc} 1 & 1 \\\\ 0 & 1 \\end{array}  \\right] $\n",
    "\n",
    "\n",
    "Rotation,\n",
    "\n",
    "$ S = \\left [  \\begin{array}{cc} 0 & 1 \\\\ -1 & 0 \\end{array}  \\right] $ ,  $ S = \\left [  \\begin{array}{cc} \\cos\\theta & \\sin\\theta \\\\ -\\sin\\theta & \\cos\\theta \\end{array}  \\right] $\n",
    "\n",
    "\n",
    "3D rotation about the $z$ axis,\n",
    "\n",
    "$ S = \\left [  \\begin{array}{cc} \\cos\\theta & \\sin\\theta & 0 \\\\ -\\sin\\theta & \\cos\\theta & 0 \\\\ 0 & 0 & 1\\end{array}  \\right] $\n",
    "\n",
    "\n",
    "Sometimes we may need to do this in data science like facial recognition like rotating images.\n",
    "\n",
    "The order of Matrix multiplication is important,\n",
    "\n",
    "$ A_1 (A_2 r) \\neq A_2 (A_1 r) $"
   ]
  },
  {
   "cell_type": "code",
   "execution_count": null,
   "metadata": {},
   "outputs": [],
   "source": []
  },
  {
   "cell_type": "markdown",
   "metadata": {},
   "source": [
    "### Echelon form\n",
    "\n",
    "example,\n",
    "\n",
    "$\n",
    "\\left ( \\begin{array}{cc} 1 & a & b \\\\ 0 & 1 & c \\\\ 0 & 0 & d \\end{array} \\right)\n",
    "$\n",
    "\n",
    "We do elimination and back substition to slove the equation.  This is a computationally efficient way to solve matrix equation.\n",
    "\n",
    "### Gaussian Elimination\n",
    "\n",
    "$ A^{-1} A = I $\n",
    "\n",
    "<img src='./capture_3.JPG' />\n",
    "\n"
   ]
  },
  {
   "cell_type": "markdown",
   "metadata": {},
   "source": [
    "### Determinant\n",
    "$\n",
    "\\left ( \\begin{array}{cc} a & b \\\\ c & d \\end{array} \\right ) \\left ( \\begin{array}{cc} d & -b \\\\ -c & a \\end{array} \\right )\n",
    "$\n",
    "\n",
    "\n",
    "For example for \n",
    "\n",
    "$ A = \\left ( \\begin{array}{cc} a & 0 \\\\ 0 & d \\end{array} \\right ) $\n",
    "\n",
    "The determinant is ad, this is also true for \n",
    "\n",
    "$ A = \\left ( \\begin{array}{cc} a & b \\\\ 0 & d \\end{array} \\right ) $\n",
    "\n",
    "However the difference is that it is now shearer by $d$. Hence, the area is $ad$ and the determinant is still $ad$.\n",
    "\n",
    "\n",
    "<img src='./capture.JPG' />\n",
    "\n",
    "\n",
    "With a general matix,\n",
    "\n",
    "$ A = \\left ( \\begin{array}{cc} a & b \\\\ c & d \\end{array} \\right ) $\n",
    "\n",
    "$ A = \\left ( \\begin{array}{cc} a & b \\\\ c & d \\end{array} \\right ) $\n",
    "\n",
    "$ Area = (a + c)(b + d) $\n",
    "\n",
    "$ Area = ad - bc $\n",
    "\n",
    "$ |A| = ad - bc $\n",
    "\n",
    "The inverse in this case is simple\n",
    "\n",
    "$ \\frac{1}{ab-dc} \\left ( \\begin{array}{cc} a & b \\\\ c & d \\end{array} \\right ) \\left ( \\begin{array}{cc} d & -b \\\\ -c & a \\end{array} \\right ) = \\frac{1}{ad-bc} \\left ( \\begin{array}{cc} ad-bc & 0 \\\\ 0 & ad-bc \\end{array} \\right ) = \\left ( \\begin{array}{cc} 1 & 0 \\\\ 0 & 1 \\end{array} \\right )$\n",
    "\n",
    "\n",
    "\n",
    "#### If we work out the area which is the determinant, we can see that what we are really doing with normalising is just un-shear the matrix.\n",
    "\n",
    "<img src='./capture_2.JPG' />\n",
    "\n",
    "\n",
    "When the determinant is zero, it means that the dimensionality is reduced. for example a 3D matrix is on a plane or a 2D matrix is on a line.\n",
    "\n",
    "This also means we would not have enough information to create an inverse matrix, because the basis vectors are not linear independant.\n",
    "\n",
    "\n",
    "\n",
    "### Linear Independants\n",
    "\n"
   ]
  },
  {
   "cell_type": "code",
   "execution_count": null,
   "metadata": {},
   "outputs": [],
   "source": []
  },
  {
   "cell_type": "markdown",
   "metadata": {},
   "source": [
    "### Inverses\n",
    "\n"
   ]
  },
  {
   "cell_type": "code",
   "execution_count": null,
   "metadata": {},
   "outputs": [],
   "source": []
  }
 ],
 "metadata": {
  "kernelspec": {
   "display_name": "Python 3",
   "language": "python",
   "name": "python3"
  },
  "language_info": {
   "codemirror_mode": {
    "name": "ipython",
    "version": 3
   },
   "file_extension": ".py",
   "mimetype": "text/x-python",
   "name": "python",
   "nbconvert_exporter": "python",
   "pygments_lexer": "ipython3",
   "version": "3.6.3"
  }
 },
 "nbformat": 4,
 "nbformat_minor": 2
}
