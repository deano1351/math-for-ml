{
 "cells": [
  {
   "cell_type": "markdown",
   "metadata": {},
   "source": [
    "# Matrices\n",
    "\n",
    "\n",
    "Solve with linear algebra\n",
    "\n",
    "$ 2a + 3b = 8 $\n",
    "\n",
    "$ 10a + b = 13 $\n",
    "\n",
    "\n",
    "Therefore,\n",
    "\n",
    "\n",
    "$\n",
    "\\left( \\begin{array}{cc} 2 & 3 \\\\ 10 & 1 \\end{array} \\right) \\left( \\begin{array}{cc} a \\\\ b \\end{array} \\right)= \\left( \\begin{array}{cc} 8 \\\\ 13 \\end{array} \\right)\n",
    "$"
   ]
  },
  {
   "cell_type": "code",
   "execution_count": null,
   "metadata": {},
   "outputs": [],
   "source": []
  },
  {
   "cell_type": "markdown",
   "metadata": {},
   "source": [
    "Hence with Matrices, \n",
    "\n",
    "If $ A = \\left [  \\begin{array}{cc} 2 & 3 \\\\ 10 & 1 \\end{array}  \\right] $\n",
    "\n",
    "$ A r = r' $\n",
    "\n",
    "$ A (nr) = A n r' $\n",
    "\n",
    "$ A (r + s) = Ar + As $"
   ]
  },
  {
   "cell_type": "code",
   "execution_count": null,
   "metadata": {},
   "outputs": [],
   "source": []
  },
  {
   "cell_type": "markdown",
   "metadata": {},
   "source": [
    "### Matrix transformation\n",
    "\n",
    "##### Identity matrix\n",
    "\n",
    "$ I = \\left [  \\begin{array}{cc} 1 & 0 \\\\ 0 & 1 \\end{array}  \\right] $\n",
    "\n",
    "\n",
    "##### Scaling Matrix\n",
    "Scales x by $ \\frac{1}{3} $ and y by $ 2 $.\n",
    "\n",
    "$ S = \\left [  \\begin{array}{cc} \\frac{1}{3} & 0 \\\\ 0 & 2 \\end{array}  \\right] $\n",
    "\n",
    "Flips x.\n",
    "\n",
    "$ S = \\left [  \\begin{array}{cc} -1 & 0 \\\\ 0 & 2 \\end{array}  \\right] $\n",
    "\n",
    "\n",
    "Inversion Matrix,\n",
    "\n",
    "$ S = \\left [  \\begin{array}{cc} -1 & 0 \\\\ 0 & -1 \\end{array}  \\right] $\n",
    "\n",
    "\n",
    "Mirrors,\n",
    "\n",
    "$ S = \\left [  \\begin{array}{cc} 0 & 1 \\\\ 1 & 0 \\end{array}  \\right] $\n",
    "\n",
    "\n",
    "Shear,\n",
    "\n",
    "$ S = \\left [  \\begin{array}{cc} 1 & 1 \\\\ 0 & 1 \\end{array}  \\right] $\n",
    "\n",
    "\n",
    "Rotation,\n",
    "\n",
    "$ S = \\left [  \\begin{array}{cc} 0 & 1 \\\\ -1 & 0 \\end{array}  \\right] $ ,  $ S = \\left [  \\begin{array}{cc} \\cos\\theta & \\sin\\theta \\\\ -\\sin\\theta & \\cos\\theta \\end{array}  \\right] $\n",
    "\n",
    "\n",
    "3D rotation about the $z$ axis,\n",
    "\n",
    "$ S = \\left [  \\begin{array}{cc} \\cos\\theta & \\sin\\theta & 0 \\\\ -\\sin\\theta & \\cos\\theta & 0 \\\\ 0 & 0 & 1\\end{array}  \\right] $\n",
    "\n",
    "\n",
    "Sometimes we may need to do this in data science like facial recognition like rotating images.\n",
    "\n",
    "The order of Matrix multiplication is important,\n",
    "\n",
    "$ A_1 (A_2 r) \\neq A_2 (A_1 r) $"
   ]
  },
  {
   "cell_type": "code",
   "execution_count": null,
   "metadata": {},
   "outputs": [],
   "source": []
  },
  {
   "cell_type": "markdown",
   "metadata": {},
   "source": []
  }
 ],
 "metadata": {
  "kernelspec": {
   "display_name": "Python 3",
   "language": "python",
   "name": "python3"
  },
  "language_info": {
   "codemirror_mode": {
    "name": "ipython",
    "version": 3
   },
   "file_extension": ".py",
   "mimetype": "text/x-python",
   "name": "python",
   "nbconvert_exporter": "python",
   "pygments_lexer": "ipython3",
   "version": "3.6.3"
  }
 },
 "nbformat": 4,
 "nbformat_minor": 2
}
