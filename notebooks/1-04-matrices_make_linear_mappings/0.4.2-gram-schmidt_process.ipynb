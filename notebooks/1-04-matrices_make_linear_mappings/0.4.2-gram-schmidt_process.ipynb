{
 "cells": [
  {
   "cell_type": "markdown",
   "metadata": {},
   "source": [
    "# The Gram-schmidt process\n",
    "\n",
    "How to construct an orthonormal basis set.\n",
    "\n",
    "$ v = { v_1, v_2, \\cdots v_n } $\n",
    "\n",
    "To check if they are linearly independent we can write them as column in a matrix to see if the determinant is 0.\n",
    "\n",
    "First we normalise,\n",
    "\n",
    "$ v_1 $,  $e_1 = \\frac{v_1}{|v_1|} $\n",
    "\n",
    "$ v_2 = (v_2 \\cdot e_1) \\frac{e_1}{|e_1|} + u_2 = (v_2 \\cdot e_1) e_1 $\n",
    "\n",
    "$ u_2 = v_2 - ( v_2 \\cdot e_1 ) e_1 $\n",
    "\n",
    "where,\n",
    "\n",
    "$ \\frac{u_2}{|u_2|} = e_2 $\n",
    "\n",
    "$v_3$ is not orthogonal to the plane of $e_1$ and $e_2$, therefore we can project onto the plane\n",
    "\n",
    "$ u_3 = v_3 - (v_3 \\cdot e_1) e_1 - (v_3 \\cdot e_2) e_2 $\n",
    "\n",
    "$ \\frac{u_3}{|u_3|} = e_3 $\n",
    "\n",
    "Therefore $e_3$ is orthogonal to $e_1$ and $e_2$, we can therefore continue until we have a set of orthogonal matrix\n",
    "\n",
    "<img src='./capture_4.JPG' />\n",
    "\n"
   ]
  },
  {
   "cell_type": "code",
   "execution_count": null,
   "metadata": {},
   "outputs": [],
   "source": []
  },
  {
   "cell_type": "markdown",
   "metadata": {},
   "source": [
    "# Example to reflect in a plane\n",
    "\n",
    "Let's say we have a plane which we don't know very well. However we know 2 vectors which lies on the plane.\n",
    "\n",
    "$ v_1 = \\left (  \\begin{array}{cc} 1\\\\ 1\\\\ 1 \\end{array} \\right) $ and  $ v_2 = \\left (  \\begin{array}{cc} 2\\\\ 0\\\\ -1 \\end{array} \\right) $, and a 3rd vector which is not on the plane $ v_3 = \\left (  \\begin{array}{cc} 3\\\\ 1\\\\ -1 \\end{array} \\right) $\n",
    "\n",
    "We can do a Gram-schmidt process,\n",
    "\n",
    "<img src='./capture_5.JPG' />\n",
    "\n",
    "Then the new Transform matrix would be,\n",
    "\n",
    "<img src='./capture_6.JPG' />\n",
    "\n",
    "To calculate $ r' $\n",
    "\n",
    "$ r' = E T_E E^{-1} r $\n",
    "\n",
    "for reflecting on the plane of $e_1$ and $e_2$ with normal $ e_3 $,\n",
    "\n",
    "$ T_E = \\left ( \\begin{array}{cc} 1 & 0 & 0 \\\\ 0 & 1 & 0 \\\\ 0 & 0 & -1 \\end{array} \\right ) $\n",
    "\n",
    "$ E^T = E^{-1} $"
   ]
  },
  {
   "cell_type": "code",
   "execution_count": null,
   "metadata": {},
   "outputs": [],
   "source": []
  }
 ],
 "metadata": {
  "kernelspec": {
   "display_name": "Python 3",
   "language": "python",
   "name": "python3"
  },
  "language_info": {
   "codemirror_mode": {
    "name": "ipython",
    "version": 3
   },
   "file_extension": ".py",
   "mimetype": "text/x-python",
   "name": "python",
   "nbconvert_exporter": "python",
   "pygments_lexer": "ipython3",
   "version": "3.6.3"
  }
 },
 "nbformat": 4,
 "nbformat_minor": 2
}
