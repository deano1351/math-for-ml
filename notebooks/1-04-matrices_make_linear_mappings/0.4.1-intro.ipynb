{
 "cells": [
  {
   "cell_type": "markdown",
   "metadata": {},
   "source": [
    "# Einstein summation convention (Einstein notation) and the symmetry of the dot product\n",
    "\n",
    "This provide a quick way to multiply two matrices\n",
    "\n",
    "$ AB $\n",
    "\n",
    "<img src='./capture_1.JPG' width=500 />\n",
    "\n",
    "For $ (ab)_{23} $ in $ AB $\n",
    "\n",
    "$ (ab)_{23} = a_{21} b_{13} + a_{22} b_{23} + \\ldots + a_{2n} b_{n3} $\n",
    "\n",
    "$ (ab)_{ik} = \\sum_j a_{ij} b_{jk} $\n",
    "\n",
    "As Einstein says with repeated index, we can just write it:\n",
    "\n",
    "$ (ab)_{ik} = a_{ij} b_{jk} $\n",
    "\n",
    "For dot product\n",
    "\n",
    "$ u \\cdot v = \\sum_{1=0}^{n} u_i v_v = u_i v_i $\n",
    "\n",
    "\n",
    "#### If we project $ \\hat{e}_1 $ onto $ \\hat{u}_1 $ and $ \\hat{u}_1 $ onto $ \\hat{e}_1 $ , we can draw a line in the middle and see thee symmetry. This is also true if we do the same for $ \\hat{e}_2 $ and $ \\hat{u}_2 $\n",
    "\n",
    "This indicates why the projection is symmetric and why the dot product is symmetric\n",
    "\n"
   ]
  },
  {
   "cell_type": "code",
   "execution_count": null,
   "metadata": {},
   "outputs": [],
   "source": []
  },
  {
   "cell_type": "markdown",
   "metadata": {},
   "source": [
    "# Matrices changing basis\n",
    "\n",
    "<img src='./capture_2.JPG' width=500 />\n",
    "\n",
    "Using projection to change basis, instead of working out the inverse matix.  However this only works if the matrices are orthogonal.\n",
    "\n",
    "If it is not orthogonal we can still do with the matrix transformation however just not with the dot product method.\n",
    "\n",
    "\n",
    "\n",
    "\n",
    "\n"
   ]
  },
  {
   "cell_type": "code",
   "execution_count": null,
   "metadata": {},
   "outputs": [],
   "source": []
  },
  {
   "cell_type": "markdown",
   "metadata": {},
   "source": [
    "# Doing a transformation in a changed basis\n",
    "\n",
    "Let's say we know Bear's basis in my world.  $B$ is Bear's basis in my world.\n",
    "\n",
    "<img src='./capture_3.JPG' width=500 />\n",
    "\n",
    "$ \\underbrace{ \\left ( \\begin{array}{cc} 3 & 1 \\\\ 1 & 1 \\end{array} \\right ) }_{B} \\left( \\begin{array}{cc} x \\\\ y \\end{array} \\right)$\n",
    "\n",
    "Rotation matrix in my world,\n",
    "\n",
    "$ \\frac{1}{\\sqrt{2}} \\left ( \\begin{array}{cc} 1 & -1 \\\\ 1 & 1 \\end{array} \\right ) $\n",
    "\n",
    "Therefore to work out Bear's rotation matrix we do,\n",
    "\n",
    "$ B^{-1} R B \\left(  \\begin{array}{cc} x \\\\ y \\end{array} \\right) $ = \n",
    "$ \\underbrace{ \\frac{1}{2} \\left ( \\begin{array}{cc} 3 & -1 \\\\ -1 & 1 \\end{array} \\right ) }_{B^{-1}} \\underbrace{ \\frac{1}{\\sqrt{2}} \\left ( \\begin{array}{cc} 1 & -1 \\\\ 1 & 1 \\end{array} \\right ) }_{R} \\underbrace{ \\left ( \\begin{array}{cc} 3 & 1 \\\\ 1 & 1 \\end{array} \\right ) }_{B} \\left( \\begin{array}{cc} x \\\\ y \\end{array} \\right)$"
   ]
  },
  {
   "cell_type": "code",
   "execution_count": null,
   "metadata": {},
   "outputs": [],
   "source": []
  },
  {
   "cell_type": "markdown",
   "metadata": {},
   "source": [
    "# Orthogonal Matrices\n",
    "\n",
    "#### Transpose Matrix\n",
    "\n",
    "$ A^T_{ij} = A_{ji} $\n",
    "\n",
    "$ A = \\left ( \\begin{array}{cc} 1 & 2 \\\\ 3 & 4 \\end{array} \\right) $\n",
    "\n",
    "we flip the element that are not the leading diagonal\n",
    "\n",
    "$ A^T = \\left ( \\begin{array}{cc} 1 & 3 \\\\ 2 & 4 \\end{array} \\right) $\n",
    "\n",
    "For A nxn matrix,\n",
    "\n",
    "$ A^T_{ij} = A_{ji} $\n",
    "\n",
    "$ \\left ( \\begin{array}{cc} ( \\cdots & \\hat{a}_1 & \\cdots ) \\\\ ( \\cdots & \\hat{a}_2& \\cdots ) \\\\ & \\vdots &  \\\\ ( \\cdots & \\hat{a}_n & \\cdots ) \\end{array} \\right)\n",
    "\\left (  \\left(  \\begin{array}{cc} \\vdots \\\\ \\hat{a}_1 \\\\ \\vdots \\end{array} \\right ) \\left(  \\begin{array}{cc} \\vdots \\\\ \\hat{a}_2 \\\\ \\vdots \\end{array} \\right ) \\ldots \\left(  \\begin{array}{cc} \\vdots \\\\ \\hat{a}_n \\\\ \\vdots \\end{array} \\right )\\right) = I $\n",
    "\n",
    "Therefore we can say that,\n",
    "\n",
    "$ a_1 \\cdot a_2 = 0 $\n",
    "\n",
    "They are *Orthonormal* basis set\n",
    "\n",
    "$ a_i \\cdot a_j = 0, i\\neq j $\n",
    "\n",
    "$ a_i \\cdot a_j = 1, i = j $\n",
    "\n",
    "If they are orthogonal matrix, and all the basis vectors are of unit length.  It must scale space by a factor of one. It doesn't make the space any bigger or smaller.  The determinant of A is equal to $+ / -$ one.\n",
    "\n",
    "$ A^T = A^{-1} $\n",
    "\n",
    "$ A^T A = I $\n",
    "\n",
    "The transpose matrix of an orthogonal basis set is another orthogonal matrix set.\n",
    "\n",
    "### In data science\n",
    "\n",
    "Really what we are saying is that wherever possible we want to use an orthonormal basis vector set, when we transform our data. That means that $A$, the transformation matrix will be an orthogonal matrix and therefore the transpose will be the inverse, it will be really easy to compute. It means that the transformation will be reversible because space doesn;t get collapse by any dimensions, it means the projections are just the dot products.\n",
    "\n",
    "If we arrange the vectors in the right order, the determinant calculated would be one, then you have transformed from right to left.  Exchange a pair of vectors and you will get a determinant of one.\n",
    "\n"
   ]
  },
  {
   "cell_type": "code",
   "execution_count": null,
   "metadata": {},
   "outputs": [],
   "source": []
  }
 ],
 "metadata": {
  "kernelspec": {
   "display_name": "Python 3",
   "language": "python",
   "name": "python3"
  },
  "language_info": {
   "codemirror_mode": {
    "name": "ipython",
    "version": 3
   },
   "file_extension": ".py",
   "mimetype": "text/x-python",
   "name": "python",
   "nbconvert_exporter": "python",
   "pygments_lexer": "ipython3",
   "version": "3.6.5"
  }
 },
 "nbformat": 4,
 "nbformat_minor": 2
}
