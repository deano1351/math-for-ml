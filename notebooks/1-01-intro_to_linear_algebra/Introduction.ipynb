{
 "cells": [
  {
   "cell_type": "markdown",
   "metadata": {},
   "source": [
    "# 01.1 - Introduction\n",
    "\n",
    "\n",
    "\n",
    "## The instructors of this course\n",
    "\n",
    "[David Dye](http://www.imperial.ac.uk/people/david.dye) is a Professor of Metallurgy in the Department of Materials. \n",
    "\n",
    "He develops alloys for jet engines, nuclear and caloric materials so as to reduce fuel burn and avoid in-service failure. This involves crystallography (vectors and transformation matrices) and techniques like neutron and synchrotron X-ray diffraction and electron microscopy at the atomic scale. These give rise to 'big data' analysis problems associated simply with the amounts of data we can now collect. His Phd and undergraduate degrees were from Cambridge University in 1997 and 2000; he joined Imperial in 2003. He also teaches introductory mathematics - errors and data analysis, and has won student-led awards for innovation in teaching.\n",
    "\n",
    "\n",
    "[Dr Sam Cooper](http://www.imperial.ac.uk/people/samuel.cooper) is a Lecturer of energy science and materials design in the Dyson School of Design Engineering at Imperial College London. \n",
    "\n",
    "His PhD was on the characterisation and optimisation of battery and fuel cell electrodes through 3D imaging and simulation. His research group is primarily focused on developing next generation energy storage technologies.\n",
    "\n",
    "\n",
    "[Dr Freddie Page](https://fourier.space/) is a Strategic Teaching Fellow in the Dyson School of Design Engineering, Imperial College London. He graduated with a MPhys from the University of Oxford in 2011 and got his PhD in theoretical nanophotonics from Imperial College London in 2016. \n",
    "\n",
    "His research is in designing materials that can slow light down to a complete stop, as well as investigating how light interacts with sheets of graphene far from thermal equilibrium.\n",
    "\n",
    "\n",
    "### Teaching staff\n",
    "\n",
    "Zain Kapadia, Undergraduate of the Department of Mathematics, Imperial College London.\n",
    "\n",
    "\n",
    "### Community assistants\n",
    "\n",
    "Both Freddie and Zain coordinate and support the online community of this MOOC as subject experts, and look forward to your contribution online!"
   ]
  },
  {
   "cell_type": "markdown",
   "metadata": {},
   "source": [
    "## Reading materials\n",
    "\n",
    "1. In Imperial Engineering, our primary maths textbook is probably the ever-popular and accessible Mathematical Methods in the Physical Sciences by Mary L Boas, John Wiley and Sons, 3rd Ed, 2006. Linear Algebra is in Chapter 3. Most Engineering maths textbooks are also useful, although they often teach 'vectors and matrices' rather than viewing linear algebra as an integrated whole.\n",
    "\n",
    "2. In US graduate school classes people often use Introduction to Linear Algebra by Gilbert Strang, Wellesley-Cambridge Press, 5th Ed, 2016. http://math.mit.edu/~gs/linearalgebra/\n",
    "\n",
    "3. Khan Academy is a great resource right up to 1st or 2nd year undergraduate material. For this course, there's a handy group of videos at https://www.khanacademy.org/math/linear-algebra\n",
    "\n",
    "4. Grant Sanderson has a great series of videos developing mathematical intuition on YouTube, which you can reach through his site http://www.3blue1brown.com\n",
    "\n",
    "5. Wikipedia gets better every year - and the linear algebra wikipedia pages are actually pretty good. https://en.wikipedia.org/wiki/Linear_algebra"
   ]
  },
  {
   "cell_type": "markdown",
   "metadata": {},
   "source": [
    "## Display Linear Algebra Formulae with Latex\n",
    "\n",
    "The basic form of Linear algebra for equation with 2 variables.\n",
    "\n",
    "$$\n",
    "\\begin{equation*}\n",
    "  \\begin{pmatrix}\n",
    "    3&2\\\\\n",
    "    8&10\n",
    "  \\end{pmatrix}\n",
    "  \\begin{pmatrix}\n",
    "    a\\\\\n",
    "    b\n",
    "  \\end{pmatrix}\n",
    "  =\n",
    "  \\begin{pmatrix}\n",
    "    20\\\\\n",
    "    13\n",
    "  \\end{pmatrix}\n",
    "\\end{equation*}\n",
    "$$"
   ]
  },
  {
   "cell_type": "markdown",
   "metadata": {},
   "source": [
    "### Normal distribution \n",
    "\n",
    "Representation of Normal (Poisson) Distribution\n",
    "\n",
    "$\n",
    "X \\sim \\mathcal{N}(\\mu,\\,\\sigma^{2})\n",
    "$\n",
    "\n",
    "\n",
    "### Normal distribution formula\n",
    "\n",
    "Calculation of Probability with Mean $ \\mu $ and Standard Deviation $ \\sigma $\n",
    "\n",
    "\n",
    "$\n",
    "\\mathcal{N}(x) = \\frac{1}{\\sigma \\sqrt{2\\pi}} e^{{-(x - \\mu)^2}/2\\sigma^2}\n",
    "$\n",
    "\n"
   ]
  },
  {
   "cell_type": "markdown",
   "metadata": {},
   "source": [
    "## Vectors\n",
    "\n",
    "Vectors can be coordinates as well as list of attributes in data science.  For example the attributes of an object of houses can be defined as follow:\n",
    "\n",
    "\n",
    "$\n",
    "\\left[ \\begin{array}{cc}\n",
    "Area(Sqm) \\\\ Bedroom \\\\ Bathroom \\\\ Price(Euro)\n",
    "\\end{array} \\right]\n",
    "=\n",
    "\\left[ \\begin{array}{cc}\n",
    "1000 \\\\ 4 \\\\ 2 \\\\ €1.5m\n",
    "\\end{array} \\right]\n",
    "$\n"
   ]
  },
  {
   "cell_type": "code",
   "execution_count": null,
   "metadata": {},
   "outputs": [],
   "source": []
  }
 ],
 "metadata": {
  "kernelspec": {
   "display_name": "Python 3",
   "language": "python",
   "name": "python3"
  },
  "language_info": {
   "codemirror_mode": {
    "name": "ipython",
    "version": 3
   },
   "file_extension": ".py",
   "mimetype": "text/x-python",
   "name": "python",
   "nbconvert_exporter": "python",
   "pygments_lexer": "ipython3",
   "version": "3.6.3"
  }
 },
 "nbformat": 4,
 "nbformat_minor": 2
}
