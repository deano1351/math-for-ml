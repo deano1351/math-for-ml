{
 "cells": [
  {
   "cell_type": "markdown",
   "metadata": {},
   "source": [
    "# 02.2 - Chainging the reference frame"
   ]
  },
  {
   "cell_type": "markdown",
   "metadata": {},
   "source": [
    "### Changing basis (co-ordinates system)\n",
    "<img src='./basis.jpg' />\n",
    "\n"
   ]
  },
  {
   "cell_type": "markdown",
   "metadata": {},
   "source": [
    "$ \\hat{e_1} = \\left[\\begin{array}{cc} 1 \\\\ 0 \\end{array} \\right] $ , \n",
    "$ \\hat{e_2} = \\left[\\begin{array}{cc} 0 \\\\ 1  \\end{array} \\right] $\n",
    "\n",
    "$ b_{1, e} = \\left[\\begin{array}{cc} 2 \\\\ 1 \\end{array} \\right] $ ,\n",
    "$ b_{2, e} = \\left[\\begin{array}{cc} -2 \\\\ 4 \\end{array} \\right] $\n",
    "\n",
    "\n",
    "If $ r_e = 3 \\hat{e_1} + 4\\hat{e_2} = \\left[\\begin{array}{cc} 3 \\\\ 4 \\end{array} \\right] $ , then $ r_b = ? $\n",
    "\n",
    "\n",
    "Using dot products in this special case where the new basis vectors are orthogonal to each other is computationally a lot faster and easier. It's just less generic. \n",
    "\n",
    "\n",
    "#### Therefore to find $ r_b $, we simple find the vector projection of $ r_e $ onto  $ b_{1, e} $ and also $ b_{2, e} $\n",
    "\n"
   ]
  },
  {
   "cell_type": "code",
   "execution_count": null,
   "metadata": {},
   "outputs": [],
   "source": []
  },
  {
   "cell_type": "markdown",
   "metadata": {},
   "source": [
    "We can therefore choose the base of vector and change the basis of vector"
   ]
  },
  {
   "cell_type": "code",
   "execution_count": null,
   "metadata": {},
   "outputs": [],
   "source": []
  },
  {
   "cell_type": "markdown",
   "metadata": {},
   "source": [
    "### Basis, Vectors and Linear Independents\n",
    "\n",
    "Basis a set of vectors that:\n",
    "\n",
    "1. Not linear combinations of each other (linearly independent)\n",
    "2. Span the space\n",
    "3. The space is then n dimensional\n",
    "\n"
   ]
  },
  {
   "cell_type": "code",
   "execution_count": null,
   "metadata": {},
   "outputs": [],
   "source": []
  }
 ],
 "metadata": {
  "kernelspec": {
   "display_name": "Python 3",
   "language": "python",
   "name": "python3"
  },
  "language_info": {
   "codemirror_mode": {
    "name": "ipython",
    "version": 3
   },
   "file_extension": ".py",
   "mimetype": "text/x-python",
   "name": "python",
   "nbconvert_exporter": "python",
   "pygments_lexer": "ipython3",
   "version": "3.6.3"
  }
 },
 "nbformat": 4,
 "nbformat_minor": 2
}
