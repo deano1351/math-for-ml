{
 "cells": [
  {
   "cell_type": "markdown",
   "metadata": {},
   "source": [
    "# 02.1.1 - Modulus and Inner Product\n",
    "\n",
    "### Commutative\n",
    "It doesn't matter which order they are in.\n",
    "\n",
    "\n",
    "$ R = \\left[ \\begin{array}{cc} 3 \\\\ 2 \\end{array} \\right] ,  S = \\left[ \\begin{array}{cc} -1 \\\\ 2 \\end{array} \\right] $\n",
    "\n",
    "\n",
    "$ R \\bullet S = R_iS_i + R_jS_j $\n",
    "\n",
    "\n",
    "$ R \\bullet S = 3 * -1 + 2 * 2 = -1 $\n",
    "\n",
    "\n",
    "$ R \\bullet S = S \\bullet R $"
   ]
  },
  {
   "cell_type": "code",
   "execution_count": null,
   "metadata": {},
   "outputs": [],
   "source": []
  },
  {
   "cell_type": "markdown",
   "metadata": {},
   "source": [
    "### Distributive\n",
    "It can be multiply out just as numbers.\n",
    "\n",
    "\n",
    "\n",
    "$ R \\bullet (S + T) = R \\bullet S + R \\bullet T $\n",
    "\n",
    "\n",
    "Provided that R, S and T are nth dimmension arrays:\n",
    "\n",
    "$ R = \\left[ \\begin{array}{cc} R_1 \\\\ R_2 \\\\ \\vdots \\\\ R_n \\end{array} \\right] , S = \\left[ \\begin{array}{cc} S_1 \\\\ S_2 \\\\ \\vdots \\\\ S_n \\end{array} \\right] , T = \\left[ \\begin{array}{cc}  T_1 \\\\ T_2 \\\\ \\vdots \\\\ T_n \\end{array} \\right] $\n",
    "\n",
    "\n",
    "\n",
    "Proof:\n",
    "\n",
    "$ R \\bullet (S + T) = R_1(S_1 + T_1) + R_2(S_2 + T_2) + \\cdots + R_n(S_n + T_n) $\n",
    "\n",
    "\n",
    "$ R \\bullet (S + T) = R_1S_1 + R_1T_1 + R_2S_2 + R_2T_2 + \\cdots + R_nS_n + R_nT_n $\n",
    "\n",
    "\n",
    "$ R \\bullet (S + T) = R \\bullet S + R \\bullet T $"
   ]
  },
  {
   "cell_type": "code",
   "execution_count": null,
   "metadata": {},
   "outputs": [],
   "source": []
  },
  {
   "cell_type": "markdown",
   "metadata": {},
   "source": [
    "### Associative (on scalar multiplication)\n",
    "\n",
    "$ R \\bullet (aS) = a (R \\bullet S) $\n",
    "\n",
    "$ R_i (a S_i) + R_j (a S_j) = a (R_iS_i + R_iS_j) $"
   ]
  },
  {
   "cell_type": "code",
   "execution_count": null,
   "metadata": {},
   "outputs": [],
   "source": []
  },
  {
   "cell_type": "markdown",
   "metadata": {},
   "source": [
    "### Dot product and the size of the vector\n",
    "If we take r and dot itself\n",
    "\n",
    "\n",
    "$ r \\bullet r = r_ir_i + r_jr_j + \\cdots + r_nr_n = r_i^2 + r_j^2 + \\cdots + r_n^2 = |r|^2 $"
   ]
  },
  {
   "cell_type": "code",
   "execution_count": null,
   "metadata": {},
   "outputs": [],
   "source": []
  },
  {
   "cell_type": "markdown",
   "metadata": {},
   "source": [
    "# 02.1.2 Cosine Rule and dot product\n",
    "\n",
    "\n",
    "From Trigolometry we know that:\n",
    "\n",
    "$ c^2 = a^2 + b^2 - 2ab\\cos\\theta $\n",
    "\n",
    "\n",
    "Therefore we can say that:\n",
    "\n",
    "$ |r-s|^2 = |r|^2 + |s|^2 - 2|r| |s| \\cos\\theta $\n",
    "\n",
    "$ (r - s) \\bullet (r - s) = r\\bullet r - 2s\\bullet r + s\\bullet s $\n",
    "\n",
    "$ (r - s) \\bullet (r - s) = |r|^2 + |s|^2 - 2s\\bullet r $\n",
    "\n",
    "By elimination:\n",
    "\n",
    "$ s\\bullet r = |r| |s| \\cos\\theta $"
   ]
  },
  {
   "cell_type": "markdown",
   "metadata": {},
   "source": [
    "<img src='./cosine_rule.jpg' />"
   ]
  },
  {
   "cell_type": "markdown",
   "metadata": {},
   "source": [
    "If $ \\cos 90^{\\circ} = 0 $ , $ r\\bullet s = |r| |s| \\bullet 0 = 0 $\n",
    "\n",
    "Also,\n",
    "\n",
    "If $ \\cos 0^{\\circ} = 1 $ , $ r\\bullet s = |r| |s| \\bullet 1 = |r||s| $\n",
    "\n",
    "If $ \\cos 180^{\\circ} = -1 $ , $ r\\bullet s = |r| |s| \\bullet * -1 = -|r||s| $"
   ]
  },
  {
   "cell_type": "code",
   "execution_count": null,
   "metadata": {},
   "outputs": [],
   "source": []
  },
  {
   "cell_type": "markdown",
   "metadata": {},
   "source": [
    "# 02.1.3 - Projection\n",
    "\n",
    "$ \\cos\\theta = \\frac {adj}{hyp} = \\frac{adj}{|s|} $\n",
    "\n",
    "$ \\begin{array}{c} r\\bullet s = \\\\ {} \\end{array} \\begin{array}{cc} |r|\\underbrace{|s| \\cos\\theta} \\\\ {adj} \\end{array} $\n",
    "\n",
    "$ \\large{\\frac {r\\bullet s} {|r|}} \\small{= |s| \\cos\\theta} $ , Scalar projection of s onto r\n"
   ]
  },
  {
   "cell_type": "markdown",
   "metadata": {},
   "source": [
    "<img src='./projection.jpg' />"
   ]
  },
  {
   "cell_type": "markdown",
   "metadata": {},
   "source": [
    "### The vector projection\n",
    "\n",
    "Unit vector of r is: $ \\large\\frac r {|r|} $\n",
    "\n",
    "Therefore the vector projection is simply the scalar vector going in the direction of r:\n",
    "\n",
    "$ \\large \\frac {r}{|r|} \\frac {r\\bullet s}{|r|} \\small = r \\large \\frac{r\\bullet s}{|r||r|} = \\large \\frac{r \\bullet s}{r \\bullet r} \\small r $"
   ]
  },
  {
   "cell_type": "code",
   "execution_count": null,
   "metadata": {},
   "outputs": [],
   "source": []
  }
 ],
 "metadata": {
  "kernelspec": {
   "display_name": "Python 3",
   "language": "python",
   "name": "python3"
  },
  "language_info": {
   "codemirror_mode": {
    "name": "ipython",
    "version": 3
   },
   "file_extension": ".py",
   "mimetype": "text/x-python",
   "name": "python",
   "nbconvert_exporter": "python",
   "pygments_lexer": "ipython3",
   "version": "3.6.3"
  }
 },
 "nbformat": 4,
 "nbformat_minor": 2
}
